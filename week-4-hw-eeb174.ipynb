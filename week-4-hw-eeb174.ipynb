{
 "cells": [
  {
   "cell_type": "code",
   "execution_count": 9,
   "metadata": {
    "collapsed": false
   },
   "outputs": [
    {
     "name": "stdout",
     "output_type": "stream",
     "text": [
      "tgactagctaatgcatatcataaacgatagtatgtatatatagctacgcaagta\n",
      "TGACTAGCTAATGCATATCATAAACGATAGTATGTATATATAGCTACGCAAGTA\n"
     ]
    }
   ],
   "source": [
    "#Complementing DNA\n",
    "dna = 'ACTGATCGATTACGTATAGTATTTGCTATCATACATATATATCGATGCGTTCAT'\n",
    "first= dna.replace('A','t')\n",
    "second = first.replace('T','a')\n",
    "third = second.replace('G', 'c')\n",
    "last = third.replace('C','g')\n",
    "print(last)\n",
    "print(last.upper())\n",
    "\n",
    "#if we replace A with T, then in the second line when we replace T with A all the Ts replaced in the first line will also change to A, so we need to \n",
    "#use either a random character or a lower case to avoid this. in each line we take the result of the previous replacement and continue and at the end we can change it all to upper case.\n"
   ]
  },
  {
   "cell_type": "code",
   "execution_count": 27,
   "metadata": {
    "collapsed": false
   },
   "outputs": [
    {
     "name": "stdout",
     "output_type": "stream",
     "text": [
      "22\n",
      "33\n",
      "size of fragment 1 is: 22\n",
      "size of fragment 2 is: 33\n"
     ]
    }
   ],
   "source": [
    "#Restriction fragment lenghts\n",
    "dna2 = 'ACTGATCGATTACGTATAGTAGAATTCTATCATACATATATATCGATGCGTTCAT'\n",
    "one= dna2.find('AATTC')\n",
    "print(one)\n",
    "two = len(dna2) -one\n",
    "print(two)\n",
    "print(\"size of fragment 1 is:\", one)\n",
    "print(\"size of fragment 2 is:\", two)\n",
    "#we use find to see the position of the cut which is at the beginning of AATTC. the size of fragment2 is found by total lenght minus fragment one. "
   ]
  },
  {
   "cell_type": "raw",
   "metadata": {},
   "source": []
  },
  {
   "cell_type": "code",
   "execution_count": 64,
   "metadata": {
    "collapsed": false
   },
   "outputs": [
    {
     "name": "stdout",
     "output_type": "stream",
     "text": [
      "ATCGATCGATCGATCGACTGACTAGTCATAGCTATGCATGTAGCTACTCGATCGATCGATCGATATCATCGATCGATATCGATGCATCGACTACTAT\n"
     ]
    }
   ],
   "source": [
    "#splicing out introns, part one\n",
    "dna3 ='ATCGATCGATCGATCGACTGACTAGTCATAGCTATGCATGTAGCTACTCGATCGATCGATCGATCGATCGATCGATCGAATCGATCATGCTATCATCGATCGATATCGATGCATCGACTACTAT'\n",
    "first= dna3[0:64]\n",
    "second = dna3[91:]\n",
    "total=first +second \n",
    "print (total)\n",
    "#we can define the first and second exons by giving the dna its range, and print both together. "
   ]
  },
  {
   "cell_type": "code",
   "execution_count": 65,
   "metadata": {
    "collapsed": false
   },
   "outputs": [
    {
     "name": "stdout",
     "output_type": "stream",
     "text": [
      "percentage-coding: 78.2258064516129\n"
     ]
    }
   ],
   "source": [
    "#splicing out introns, part two\n",
    "coding_part=len(total)\n",
    "dna3_lenght= len(dna3)\n",
    "percentage_coding = (coding_part / dna3_lenght)*100\n",
    "print (\"percentage-coding:\", percentage_coding)\n",
    "                     "
   ]
  },
  {
   "cell_type": "code",
   "execution_count": 66,
   "metadata": {
    "collapsed": false
   },
   "outputs": [
    {
     "name": "stdout",
     "output_type": "stream",
     "text": [
      "ATCGATCGATCGATCGACTGACTAGTCATAGCTATGCATGTAGCTACTCGATCGATCGATCGATtcgatcgatcgatcgaatcgatcatgctATCATCGATCGATATCGATGCATCGACTACTAT\n"
     ]
    }
   ],
   "source": [
    "#splicing out introns, part three\n",
    "dna_new= first.upper() + dna3[63:91].lower() + second.upper()\n",
    "print(dna_new)"
   ]
  },
  {
   "cell_type": "code",
   "execution_count": null,
   "metadata": {
    "collapsed": true
   },
   "outputs": [],
   "source": []
  }
 ],
 "metadata": {
  "anaconda-cloud": {},
  "kernelspec": {
   "display_name": "Python [conda root]",
   "language": "python",
   "name": "conda-root-py"
  },
  "language_info": {
   "codemirror_mode": {
    "name": "ipython",
    "version": 3
   },
   "file_extension": ".py",
   "mimetype": "text/x-python",
   "name": "python",
   "nbconvert_exporter": "python",
   "pygments_lexer": "ipython3",
   "version": "3.5.2"
  }
 },
 "nbformat": 4,
 "nbformat_minor": 2
}
