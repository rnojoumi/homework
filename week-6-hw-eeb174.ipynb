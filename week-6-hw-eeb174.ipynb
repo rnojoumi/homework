{
 "cells": [
  {
   "cell_type": "markdown",
   "metadata": {},
   "source": [
    "# Part 1: Code Academy  Review\n",
    "\n"
   ]
  },
  {
   "cell_type": "markdown",
   "metadata": {
    "collapsed": true
   },
   "source": [
    "***Python Syntax***\n",
    "<img src=\"./screenshot/pythonSyntax.png\" width=\"800\" height=\"800\" alt=\"Alt_name\" title=\"Mytitle\" align=\"center\" />\n",
    "\n",
    "***String and console output***\n",
    "<img src=\"./screenshot/strings&console.png\" width=\"800\" height=\"800\" alt=\"Alt_name\" title=\"Mytitle\" align=\"center\" />\n",
    "\n",
    "***Conditional and control flow***\n",
    "<img src=\"./screenshot/conditionals&controlflow.png\" width=\"800\" height=\"800\" alt=\"Alt_name\" title=\"Mytitle\" align=\"center\" />\n",
    "\n",
    "***Functions***\n",
    "<img src=\"./screenshot/functions.png\" width=\"800\" height=\"800\" alt=\"Alt_name\" title=\"Mytitle\" align=\"center\" />\n",
    "\n",
    "\n",
    "***Python lists and dictionaries***\n",
    "<img src=\"./screenshot/pythonList&Dictionaries.png\" width=\"800\" height=\"800\" alt=\"Alt_name\" title=\"Mytitle\" align=\"center\" />\n",
    "\n",
    "***Lists and functions***\n",
    "<img src=\"./screenshot/lists&functions.png\" width=\"800\" height=\"800\" alt=\"Alt_name\" title=\"Mytitle\" align=\"center\" />\n",
    "\n",
    "***Loops***\n",
    "<img src=\"./screenshot/loops.png\" width=\"800\" height=\"800\" alt=\"Alt_name\" title=\"Mytitle\" align=\"center\" />\n",
    "\n",
    "***Practice makes perfect***\n",
    "<img src=\"./screenshot/practiceMakesPerfect.png\" width=\"800\" height=\"800\" alt=\"Alt_name\" title=\"Mytitle\" align=\"center\" />"
   ]
  },
  {
   "cell_type": "markdown",
   "metadata": {
    "collapsed": true
   },
   "source": []
  },
  {
   "cell_type": "markdown",
   "metadata": {},
   "source": [
    "\n"
   ]
  },
  {
   "cell_type": "markdown",
   "metadata": {},
   "source": []
  },
  {
   "cell_type": "markdown",
   "metadata": {},
   "source": []
  },
  {
   "cell_type": "markdown",
   "metadata": {
    "collapsed": true
   },
   "source": [
    "# Part 2: Python for biologists\n",
    "\n",
    "***pseudocode***\n",
    "\n",
    "-genodone={} need a dictionary for codon and amino acid residue\n",
    "\n",
    "-def ...(dna): function that takes DNA sequence as argument \n",
    "\n",
    "-for codon in dna sequence, codons= range(0,len(dna),3)\n",
    "\n",
    "-amino = genocode[codons] \"the amino acids corresponding to the codons\"\n",
    "\n",
    "-protein = protein +amino, add up all proteins in loop\n",
    "\n",
    "-return protein outside the loop\n"
   ]
  },
  {
   "cell_type": "code",
   "execution_count": 4,
   "metadata": {
    "collapsed": false
   },
   "outputs": [
    {
     "data": {
      "text/plain": [
       "'MFG'"
      ]
     },
     "execution_count": 4,
     "metadata": {},
     "output_type": "execute_result"
    }
   ],
   "source": [
    "gencode = {\n",
    "    'ATA':'I', 'ATC':'I', 'ATT':'I', 'ATG':'M',\n",
    "    'ACA':'T', 'ACC':'T', 'ACG':'T', 'ACT':'T',\n",
    "    'AAC':'N', 'AAT':'N', 'AAA':'K', 'AAG':'K',\n",
    "    'AGC':'S', 'AGT':'S', 'AGA':'R', 'AGG':'R',\n",
    "    'CTA':'L', 'CTC':'L', 'CTG':'L', 'CTT':'L',\n",
    "    'CCA':'P', 'CCC':'P', 'CCG':'P', 'CCT':'P',\n",
    "    'CAC':'H', 'CAT':'H', 'CAA':'Q', 'CAG':'Q',\n",
    "    'CGA':'R', 'CGC':'R', 'CGG':'R', 'CGT':'R',\n",
    "    'GTA':'V', 'GTC':'V', 'GTG':'V', 'GTT':'V',\n",
    "    'GCA':'A', 'GCC':'A', 'GCG':'A', 'GCT':'A',\n",
    "    'GAC':'D', 'GAT':'D', 'GAA':'E', 'GAG':'E',\n",
    "    'GGA':'G', 'GGC':'G', 'GGG':'G', 'GGT':'G',\n",
    "    'TCA':'S', 'TCC':'S', 'TCG':'S', 'TCT':'S',\n",
    "    'TTC':'F', 'TTT':'F', 'TTA':'L', 'TTG':'L',\n",
    "    'TAC':'Y', 'TAT':'Y', 'TAA':'_', 'TAG':'_',\n",
    "    'TGC':'C', 'TGT':'C', 'TGA':'_', 'TGG':'W'} \n",
    "\n",
    "def translate_dna(dna):\n",
    " #to make sure each codon consists of 3 nucleotides(last one)   \n",
    "    lastcodon = len(dna) - 2 \n",
    "    protein = \"\"\n",
    "    for startcodon in range(0,lastcodon,3): \n",
    "        \n",
    "        trinucleotide = dna[startcodon:startcodon+3] \n",
    "        \n",
    "        AA = gencode.get(trinucleotide, 'X') # return X if given an unknown trinucleotide\n",
    "        \n",
    "        protein = protein + AA \n",
    "        \n",
    "    return protein\n",
    "\n",
    "#to check for possible errors\n",
    "translate_dna(\"ATGTTCGGT\")\n"
   ]
  },
  {
   "cell_type": "code",
   "execution_count": 15,
   "metadata": {
    "collapsed": false
   },
   "outputs": [
    {
     "data": {
      "text/plain": [
       "'I'"
      ]
     },
     "execution_count": 15,
     "metadata": {},
     "output_type": "execute_result"
    }
   ],
   "source": [
    "translate_dna(\"ATTTG\")"
   ]
  },
  {
   "cell_type": "code",
   "execution_count": 16,
   "metadata": {
    "collapsed": false
   },
   "outputs": [
    {
     "data": {
      "text/plain": [
       "'ICXL'"
      ]
     },
     "execution_count": 16,
     "metadata": {},
     "output_type": "execute_result"
    }
   ],
   "source": [
    "translate_dna(\"ATCTGTKKACTGT\")"
   ]
  },
  {
   "cell_type": "markdown",
   "metadata": {},
   "source": [
    "# Part 3: Allesina and Wilmes"
   ]
  },
  {
   "cell_type": "markdown",
   "metadata": {},
   "source": [
    "***1. Write the simulation program described in section 4.3.2 starting on page 93 ***"
   ]
  },
  {
   "cell_type": "code",
   "execution_count": 5,
   "metadata": {
    "collapsed": false
   },
   "outputs": [
    {
     "name": "stdout",
     "output_type": "stream",
     "text": [
      "An allele reached fixation at generation 339\n",
      "The genotype counts are\n",
      "{'AA': 100, 'aa': 0, 'aA': 0, 'Aa': 0}\n",
      "An allele reached fixation at generation 12\n",
      "The genotype counts are\n",
      "{'AA': 100, 'aa': 0, 'aA': 0, 'Aa': 0}\n"
     ]
    }
   ],
   "source": [
    "import scipy \n",
    "\n",
    "def build_population(N, p):\n",
    "\n",
    "    \"\"\"The population consists of N individuals.\n",
    "    Each individual has two chromosomes, containing\n",
    "    allele \"A\" or \"a\", with probability p and 1-p,\n",
    "    respectively.The population is a list of tuples.\n",
    "    \"\"\"\n",
    "    population = []\n",
    "    for i in range(N):\n",
    "        allele1 = \"A\"\n",
    "        if scipy.random.rand() > p:\n",
    "            allele1 = \"a\"\n",
    "        allele2 = \"A\"\n",
    "        if scipy.random.rand() > p:\n",
    "            allele2 = \"a\"\n",
    "        population.append((allele1, allele2))\n",
    "    return population\n",
    "\n",
    "\n",
    "\n",
    "def compute_frequencies(population):\n",
    "    \"\"\" Count the genotypes.\n",
    "    Returns a dictionary with counts for each genotype.\n",
    "    \"\"\"\n",
    "    AA = population.count(('A', 'A'))\n",
    "    Aa = population.count(('A', 'a'))\n",
    "    aA = population.count(('a', 'A'))\n",
    "    aa = population.count(('a', 'a'))\n",
    "    return({'AA': AA,\n",
    "            'aa': aa,\n",
    "            'Aa': Aa,\n",
    "            'aA': aA})\n",
    "\n",
    "\n",
    "def reproduce_population(population):\n",
    "    \"\"\" Create a new generation through sexual reproduction\n",
    "    For each of N new offspring:\n",
    "    - Choose the parents at random\n",
    "    - The offspring receives a chromosomes from each of\n",
    "    the parents\n",
    "    \"\"\"\n",
    "    new_generation = []\n",
    "    N = len(population)\n",
    "    for i in range(N):\n",
    "        dad = scipy.random.randint(N) # random integer between 0 and N-1\n",
    "        mom = scipy.random.randint(N)\n",
    "        chr_mom = scipy.random.randint(2) # which chromosome comes from mom\n",
    "        offspring = (population[mom][chr_mom], population[dad][1 - chr_mom])\n",
    "        new_generation.append(offspring)\n",
    "    return(new_generation)\n",
    "\n",
    "\n",
    "\n",
    "def simulate_drift(N, p):\n",
    "    # initialize the population\n",
    "    my_pop = build_population(N, p)\n",
    "    fixation = False\n",
    "    num_generations = 0\n",
    "    while fixation == False:\n",
    "    # compute genotype counts\n",
    "        genotype_counts = compute_frequencies(my_pop)\n",
    "        # if one allele went to fixation, end the simulation\n",
    "        if genotype_counts['AA'] == N or genotype_counts['aa'] == N:\n",
    "            print('An allele reached fixation at generation',\n",
    "            num_generations)\n",
    "            print('The genotype counts are')\n",
    "            print(genotype_counts)\n",
    "            fixation == True\n",
    "            break\n",
    "        # if not, reproduce\n",
    "        my_pop = reproduce_population(my_pop)\n",
    "        num_generations = num_generations + 1\n",
    "\n",
    "        \n",
    "simulate_drift(100, 0.5)\n",
    "simulate_drift(100, 0.9)"
   ]
  },
  {
   "cell_type": "markdown",
   "metadata": {},
   "source": [
    "***2.Do part 1 of question 4.9.1 using this data set***"
   ]
  },
  {
   "cell_type": "code",
   "execution_count": 8,
   "metadata": {
    "collapsed": false
   },
   "outputs": [
    {
     "name": "stdout",
     "output_type": "stream",
     "text": [
      "Mammal 0.009\n",
      "Gastropod 0.40099999999999997\n",
      "Amphibian 0.18552824175524468\n",
      "Fish 0.39719005173783783\n",
      "Bird 0.13175671104423078\n",
      "Chelicerate 0.49113529650000004\n",
      "Reptile 0.11750000000000002\n",
      "Annelids 0.2\n",
      "Protist 0.61402\n",
      "Crustacean 0.40302827731946345\n",
      "Insect 0.19664531553867934\n"
     ]
    }
   ],
   "source": [
    "import csv \n",
    "\n",
    "\n",
    "#open the file\n",
    "file_object= open('Jiang2013_data.csv')\n",
    "\n",
    "#to read the file with delimiter tab\n",
    "reader = csv.DictReader(file_object, delimiter = '\\t')\n",
    "\n",
    "\n",
    "\n",
    "#make list for taxa and r values\n",
    "taxaa = []\n",
    "rvalues = [] \n",
    "\n",
    "#to go over all file and taxa\n",
    "for n in reader: \n",
    "    \n",
    "     taxaa.append(n['Taxon'])\n",
    "     \n",
    "     rvalues.append(float(n['r']))\n",
    "        \n",
    "        \n",
    "#function to find r average \n",
    "def r_value(taxa_names, value, taxon = 'Chelicerate'):\n",
    "     #number of taxa in taxa_names\n",
    "    length = len(taxa_names) \n",
    "    r_average = 0.0 \n",
    "    sample_qty = 0 \n",
    "    \n",
    "    \n",
    "    \n",
    "    #for each names in taxa_names, if its equal to the taxon name gives, add the r value together\n",
    "    for c in range(0,length):\n",
    "        \n",
    "        if taxa_names[c] == taxon: \n",
    "            \n",
    "            r_average = r_average + value[c] \n",
    "            #to find number of taxons found to measure average\n",
    "            sample_qty = sample_qty + 1 \n",
    "            \n",
    "    return r_average / sample_qty \n",
    "\n",
    "r_value(taxaa, rvalues, taxon = 'Chelicerate')\n",
    "\n",
    "\n",
    "#r value for all taxa\n",
    "for i in (set(taxaa)): \n",
    "    print(i, r_value(taxaa, rvalues, taxon = i))"
   ]
  },
  {
   "cell_type": "markdown",
   "metadata": {},
   "source": [
    "***3. bonus,part 2***"
   ]
  },
  {
   "cell_type": "code",
   "execution_count": 10,
   "metadata": {
    "collapsed": false
   },
   "outputs": [
    {
     "data": {
      "text/plain": [
       "['Fish', 0.397, 0.00276]"
      ]
     },
     "execution_count": 10,
     "metadata": {},
     "output_type": "execute_result"
    }
   ],
   "source": [
    "import scipy\n",
    "#to randomize\n",
    "def get_p_value_for_mean_r(names, values, target_taxon = 'Fish', num_simulations = 50000):\n",
    "    \n",
    "    \n",
    "    # from the previous function, get the r value\n",
    "    observed = r_value(names, values, target_taxon)\n",
    "    \n",
    "    \n",
    "    # to make a copy of taxa names\n",
    "    rnd_names = names[:]\n",
    "    \n",
    "    p_value = 0.0\n",
    "    \n",
    "    #for the range of the simulation number chosen\n",
    "    for i in range(num_simulations):\n",
    "        # to randomize\n",
    "        scipy.random.shuffle(rnd_names)\n",
    "        \n",
    "        tmp = r_value(rnd_names, values, target_taxon)\n",
    "        #add r if its greater than observed \n",
    "        if tmp >= observed:\n",
    "            p_value = p_value + 1.0\n",
    "    #find p value by dividing to simulations number \n",
    "    p_value = p_value / num_simulations\n",
    "    return [target_taxon, round(observed, 3), round(p_value, 5)]\n",
    "\n",
    "get_p_value_for_mean_r(taxaa, rvalues, 'Fish', 50000)\n"
   ]
  },
  {
   "cell_type": "code",
   "execution_count": null,
   "metadata": {
    "collapsed": false
   },
   "outputs": [],
   "source": []
  },
  {
   "cell_type": "markdown",
   "metadata": {},
   "source": [
    "***4. Bonus, part 3***"
   ]
  },
  {
   "cell_type": "code",
   "execution_count": 50,
   "metadata": {
    "collapsed": false
   },
   "outputs": [
    {
     "name": "stdout",
     "output_type": "stream",
     "text": [
      "['Annelids', 0.2, 0.59162]\n",
      "['Insect', 0.197, 0.9981]\n",
      "['Fish', 0.397, 0.0036]\n",
      "['Reptile', 0.118, 0.93196]\n",
      "['Chelicerate', 0.491, 0.01158]\n",
      "['Crustacean', 0.403, 0.0]\n",
      "['Protist', 0.614, 0.0036]\n",
      "['Bird', 0.132, 0.99978]\n",
      "['Amphibian', 0.186, 0.99996]\n",
      "['Mammal', 0.009, 0.84314]\n",
      "['Gastropod', 0.401, 0.07642]\n"
     ]
    }
   ],
   "source": [
    "#for all taxa\n",
    "for t in ((set(taxaa))):\n",
    "    print(get_p_value_for_mean_r(taxaa, rvalues, t, 50000))"
   ]
  },
  {
   "cell_type": "code",
   "execution_count": null,
   "metadata": {
    "collapsed": false
   },
   "outputs": [],
   "source": []
  },
  {
   "cell_type": "code",
   "execution_count": null,
   "metadata": {
    "collapsed": true
   },
   "outputs": [],
   "source": []
  }
 ],
 "metadata": {
  "anaconda-cloud": {},
  "kernelspec": {
   "display_name": "Python [default]",
   "language": "python",
   "name": "python3"
  },
  "language_info": {
   "codemirror_mode": {
    "name": "ipython",
    "version": 3
   },
   "file_extension": ".py",
   "mimetype": "text/x-python",
   "name": "python",
   "nbconvert_exporter": "python",
   "pygments_lexer": "ipython3",
   "version": "3.5.2"
  }
 },
 "nbformat": 4,
 "nbformat_minor": 2
}
