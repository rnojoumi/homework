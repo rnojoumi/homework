{
 "cells": [
  {
   "cell_type": "markdown",
   "metadata": {},
   "source": []
  },
  {
   "cell_type": "code",
   "execution_count": 34,
   "metadata": {
    "collapsed": false
   },
   "outputs": [],
   "source": [
    "#JSON API method\n",
    "import urllib.request\n",
    "import json\n",
    "\n",
    "\n",
    "api_url = \"https://fishbase.ropensci.org/species/?FamCode=424\" \n",
    "\n",
    "output=open(\"favorite_fish.md\",\"w\")#create markdown file \n",
    "\n",
    "\n",
    "raw_json = urllib.request.urlopen(api_url)\n",
    "decoded_json = raw_json.read().decode('utf-8')\n",
    "parsed_json = json.loads(decoded_json)\n",
    "raw_json.close()\n",
    "\n",
    "output.write(\"# My favorite fish\" + \"\\n\")\n",
    "for  data in parsed_json[\"data\"]:\n",
    "   \n",
    "   #to write specie and then genus names\n",
    "    output.write(\"##\"+\" \"+str(data[\"Genus\"])+\" \"+str(data[\"Species\"])+\"\\n\")\n",
    "    output.write(\"Weight = \"+str(data[\"Weight\"])+\"<br>\"+\"\\n\")\n",
    "    output.write(\"BodyShapeI = \"+str(data[\"BodyShapeI\"])+\"<br>\"+\"\\n\")\n",
    "    output.write(\"Length = \"+str(data[\"Length\"])+\"<br>\"+\"\\n\")\n",
    "    output.write(\"Dangerous = \"+str(data[\"Dangerous\"])+\"<br>\"+\"\\n\")\n",
    "    \n",
    "    \n"
   ]
  },
  {
   "cell_type": "markdown",
   "metadata": {
    "collapsed": false
   },
   "source": [
    "**output:**\n",
    "# My favorite fish\n",
    "## Tetragonurus atlanticus\n",
    "Weight = None<br>\n",
    "BodyShapeI = elongated<br>\n",
    "Length = 50.0<br>\n",
    "Dangerous = poisonous to eat<br>\n",
    "## Tetragonurus cuvieri\n",
    "Weight = None<br>\n",
    "BodyShapeI = elongated<br>\n",
    "Length = 70.0<br>\n",
    "Dangerous = reports of ciguatera poisoning<br>\n",
    "## Tetragonurus pacificus\n",
    "Weight = None<br>\n",
    "BodyShapeI = None<br>\n",
    "Length = None<br>\n",
    "Dangerous = harmless<br>"
   ]
  },
  {
   "cell_type": "code",
   "execution_count": null,
   "metadata": {
    "collapsed": false
   },
   "outputs": [],
   "source": [
    "\n",
    "\n",
    "\n"
   ]
  },
  {
   "cell_type": "code",
   "execution_count": null,
   "metadata": {
    "collapsed": true
   },
   "outputs": [],
   "source": []
  },
  {
   "cell_type": "code",
   "execution_count": null,
   "metadata": {
    "collapsed": true
   },
   "outputs": [],
   "source": []
  }
 ],
 "metadata": {
  "anaconda-cloud": {},
  "kernelspec": {
   "display_name": "Python [conda root]",
   "language": "python",
   "name": "conda-root-py"
  },
  "language_info": {
   "codemirror_mode": {
    "name": "ipython",
    "version": 3
   },
   "file_extension": ".py",
   "mimetype": "text/x-python",
   "name": "python",
   "nbconvert_exporter": "python",
   "pygments_lexer": "ipython3",
   "version": "3.5.2"
  }
 },
 "nbformat": 4,
 "nbformat_minor": 2
}
