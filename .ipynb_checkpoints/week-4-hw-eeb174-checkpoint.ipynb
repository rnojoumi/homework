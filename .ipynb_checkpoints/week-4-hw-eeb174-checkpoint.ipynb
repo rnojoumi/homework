{
 "cells": [
  {
   "cell_type": "code",
   "execution_count": 9,
   "metadata": {
    "collapsed": false
   },
   "outputs": [
    {
     "name": "stdout",
     "output_type": "stream",
     "text": [
      "tgactagctaatgcatatcataaacgatagtatgtatatatagctacgcaagta\n",
      "TGACTAGCTAATGCATATCATAAACGATAGTATGTATATATAGCTACGCAAGTA\n"
     ]
    }
   ],
   "source": [
    "#Complementing DNA\n",
    "dna = 'ACTGATCGATTACGTATAGTATTTGCTATCATACATATATATCGATGCGTTCAT'\n",
    "first= dna.replace('A','t')\n",
    "second = first.replace('T','a')\n",
    "third = second.replace('G', 'c')\n",
    "last = third.replace('C','g')\n",
    "print(last)\n",
    "print(last.upper())\n",
    "\n",
    "#if we replace A with T, then in the second line when we replace T with A all the Ts replaced in the first line will also change to A, so we need to \n",
    "#use either a random character or a lower case to avoid this. in each line we take the result of the previous replacement and continue and at the end we can change it all to upper case.\n"
   ]
  },
  {
   "cell_type": "code",
   "execution_count": 27,
   "metadata": {
    "collapsed": false
   },
   "outputs": [
    {
     "name": "stdout",
     "output_type": "stream",
     "text": [
      "22\n",
      "33\n",
      "size of fragment 1 is: 22\n",
      "size of fragment 2 is: 33\n"
     ]
    }
   ],
   "source": [
    "#Restriction fragment lenghts\n",
    "dna2 = 'ACTGATCGATTACGTATAGTAGAATTCTATCATACATATATATCGATGCGTTCAT'\n",
    "one= dna2.find('AATTC')\n",
    "print(one)\n",
    "two = len(dna2) -one\n",
    "print(two)\n",
    "print(\"size of fragment 1 is:\", one)\n",
    "print(\"size of fragment 2 is:\", two)\n",
    "#we use find to see the position of the cut which is at the beginning of AATTC. the size of fragment2 is found by total lenght minus fragment one. "
   ]
  },
  {
   "cell_type": "raw",
   "metadata": {},
   "source": []
  },
  {
   "cell_type": "code",
   "execution_count": 64,
   "metadata": {
    "collapsed": false
   },
   "outputs": [
    {
     "name": "stdout",
     "output_type": "stream",
     "text": [
      "ATCGATCGATCGATCGACTGACTAGTCATAGCTATGCATGTAGCTACTCGATCGATCGATCGATATCATCGATCGATATCGATGCATCGACTACTAT\n"
     ]
    }
   ],
   "source": [
    "#splicing out introns, part one\n",
    "dna3 ='ATCGATCGATCGATCGACTGACTAGTCATAGCTATGCATGTAGCTACTCGATCGATCGATCGATCGATCGATCGATCGAATCGATCATGCTATCATCGATCGATATCGATGCATCGACTACTAT'\n",
    "first= dna3[0:64]\n",
    "second = dna3[91:]\n",
    "total=first +second \n",
    "print (total)\n",
    "#we can define the first and second exons by giving the dna its range, and print both together. "
   ]
  },
  {
   "cell_type": "code",
   "execution_count": 65,
   "metadata": {
    "collapsed": false
   },
   "outputs": [
    {
     "name": "stdout",
     "output_type": "stream",
     "text": [
      "percentage-coding: 78.2258064516129\n"
     ]
    }
   ],
   "source": [
    "#splicing out introns, part two\n",
    "coding_part=len(total)\n",
    "dna3_lenght= len(dna3)\n",
    "percentage_coding = (coding_part / dna3_lenght)*100\n",
    "print (\"percentage-coding:\", percentage_coding)\n",
    "                     "
   ]
  },
  {
   "cell_type": "code",
   "execution_count": 66,
   "metadata": {
    "collapsed": false
   },
   "outputs": [
    {
     "name": "stdout",
     "output_type": "stream",
     "text": [
      "ATCGATCGATCGATCGACTGACTAGTCATAGCTATGCATGTAGCTACTCGATCGATCGATCGATtcgatcgatcgatcgaatcgatcatgctATCATCGATCGATATCGATGCATCGACTACTAT\n"
     ]
    }
   ],
   "source": [
    "#splicing out introns, part three\n",
    "dna_new= first.upper() + dna3[63:91].lower() + second.upper()\n",
    "print(dna_new)"
   ]
  },
  {
   "cell_type": "code",
   "execution_count": 6,
   "metadata": {
    "collapsed": false
   },
   "outputs": [
    {
     "data": {
      "text/plain": [
       "27"
      ]
     },
     "execution_count": 6,
     "metadata": {},
     "output_type": "execute_result"
    }
   ],
   "source": [
    "# Splitting genomic DNA\n",
    "dna_file = open(\"genomic_dna.txt\")\n",
    "my_dna = dna_file.read()\n",
    "exon1 = my_dna[0:63]\n",
    "intron = my_dna[63:90]\n",
    "exon2 = my_dna[90:]\n",
    "coding_file = open(\"coding_dna.txt\", \"w\")\n",
    "noncoding_file = open(\"noncoding_dna.txt\", \"w\")\n",
    "coding_file.write(exon1 + exon2)\n",
    "noncoding_file.write(intron)\n",
    "#first we open and read the file to have access to the content of the file. we use the exons and introns from the previous question, then we make two new files and write exons in one and intron in the second one. we use open with \"w\"(write) for making new file."
   ]
  },
  {
   "cell_type": "code",
   "execution_count": 4,
   "metadata": {
    "collapsed": false
   },
   "outputs": [
    {
     "data": {
      "text/plain": [
       "33"
      ]
     },
     "execution_count": 4,
     "metadata": {},
     "output_type": "execute_result"
    }
   ],
   "source": [
    "#Writing a FASTA file\n",
    "header_1 = \"ABC123\"\n",
    "header_2 = \"DEF456\"\n",
    "header_3 = \"HIJ789\"\n",
    "seq_1= \"ATCGTACGATCGATCGATCGCTAGACGTATCG\"\n",
    "seq_2= \"actgatcgacgatcgatcgatcacgact\"\n",
    "seq_3= \"ACTGAC-ACTGT—ACTGTA----CATGTG\"\n",
    "output = open(\"sequences.fasta\", \"w\")\n",
    "output.write('>' + header_1 + '\\n' + seq_1 + '\\n')\n",
    "output.write('>' + header_2 + '\\n' + seq_2.upper() + '\\n')\n",
    "output.write('>' + header_3 + '\\n' + seq_3.replace('-', '') + '\\n')\n",
    "#we define the headers and the sequences, then we make a new file and write them with the correct format. "
   ]
  },
  {
   "cell_type": "code",
   "execution_count": 9,
   "metadata": {
    "collapsed": false
   },
   "outputs": [
    {
     "name": "stdout",
     "output_type": "stream",
     "text": [
      "length of sequence is 43\n",
      "length of sequence is 38\n",
      "length of sequence is 49\n",
      "length of sequence is 34\n",
      "length of sequence is 48\n"
     ]
    }
   ],
   "source": [
    "#Processing DNA in a file\n",
    "file = open(\"input.txt\")\n",
    "output = open(\"trimmed.txt\", \"w\")\n",
    "for dna in file:\n",
    "    trimmed_dna = dna[14:]\n",
    "    output.write(trimmed_dna)\n",
    "    print(\"length of sequence is \" + str(len(trimmed_dna)))\n",
    "output.close()\n",
    "#we dont need to read the file because we are working with lines. we make a new file and write the dna with range after 14 in the file.we also print the length of the sequence"
   ]
  },
  {
   "cell_type": "code",
   "execution_count": 15,
   "metadata": {
    "collapsed": false
   },
   "outputs": [],
   "source": [
    "# Multiple exons from genomic DNA\n",
    "genomic_dna = open(\"genomic_dna.txt\").read()\n",
    "exon_locations = open(\"exons.txt\")\n",
    "coding_sequence = \"\"\n",
    "for line in exon_locations:\n",
    "    positions = line.split(',')\n",
    "    start = int(positions[0])\n",
    "    stop = int(positions[1])\n",
    "    exon = genomic_dna[start:stop]\n",
    "    coding_sequence = coding_sequence + exon\n",
    "output = open(\"coding_sequence.txt\", \"w\")\n",
    "output.write(coding_sequence)\n",
    "output.close()\n",
    "#we use a loop for the lines in exons.txt. using split, we change a string to a list, and so we can define start and stop position\n",
    "#by the range of that list. We use the stop and start number for the sequence we have in genomic_dna.txt. which will be the exon.\n",
    "#we add up all the exons and write it in a new file. "
   ]
  },
  {
   "cell_type": "code",
   "execution_count": null,
   "metadata": {
    "collapsed": true
   },
   "outputs": [],
   "source": []
  }
 ],
 "metadata": {
  "anaconda-cloud": {},
  "kernelspec": {
   "display_name": "Python [conda root]",
   "language": "python",
   "name": "conda-root-py"
  },
  "language_info": {
   "codemirror_mode": {
    "name": "ipython",
    "version": 3
   },
   "file_extension": ".py",
   "mimetype": "text/x-python",
   "name": "python",
   "nbconvert_exporter": "python",
   "pygments_lexer": "ipython3",
   "version": "3.5.2"
  }
 },
 "nbformat": 4,
 "nbformat_minor": 2
}
