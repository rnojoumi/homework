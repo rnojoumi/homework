{
 "cells": [
  {
   "cell_type": "code",
   "execution_count": null,
   "metadata": {
    "collapsed": false
   },
   "outputs": [],
   "source": [
    "#to clean up the file from headers, we read its line and give it a range which is after line 18 and rewrtie it to another file\n",
    "my_file= open(\"canids.csv\" , encoding = \"ISO-8859-15\")\n",
    "my_line = my_file.readlines()[18:]\n",
    "output = open(\"canids_new.csv\", \"w\")\n",
    "for line in my_line:\n",
    "    output.write(line)"
   ]
  },
  {
   "cell_type": "code",
   "execution_count": 2,
   "metadata": {
    "collapsed": false
   },
   "outputs": [],
   "source": [
    "# 1st function \n",
    "\n",
    "#filename is the argument that we give to the function\n",
    "def sp_range(filename):\n",
    "    file = open(filename,'r')\n",
    "    my_line = file.readlines()#read through its lines\n",
    "                \n",
    "          \n",
    "     #defaultdict makes it possible to eliminate multiple same keys and save all the values for a specific key together           \n",
    "    from collections import defaultdict\n",
    "    species_ranges = defaultdict(list)\n",
    "                \n",
    "                \n",
    "    #to remove the double quotes and single quotes            \n",
    "    for line in my_line:\n",
    " \n",
    "        line= line.replace('\"', '')\n",
    "        line= line.replace(\"'\", '')\n",
    "      \n",
    "        #species name is the 6th column, 7th column states whether it is species or genus or family rank    \n",
    "        species_name= line.split(\",\")[5]       \n",
    "        sp_or_genus= line.split(\",\")[6]         \n",
    "        max_int = line.split(\",\")[10]\n",
    "        min_int = line.split(\",\")[11]\n",
    "        #to get the values for only when species rank was stated                 \n",
    "        if sp_or_genus==\"species\":\n",
    "            #append the min and max to the species name in the dict defined above\n",
    "            species_ranges[species_name].append(max_int)\n",
    "            species_ranges[species_name].append(min_int)\n",
    "        sorted(species_ranges.keys())\n",
    "    \n",
    "    file.close()\n",
    "    return (species_ranges)\n",
    "    \n",
    "    \n",
    "    \n",
    "#sp_range(\"canidsnew.csv\")\n"
   ]
  },
  {
   "cell_type": "code",
   "execution_count": 4,
   "metadata": {
    "collapsed": false
   },
   "outputs": [],
   "source": [
    "#to use the dictionary made above we run the function and make it equal to the dict name to use here\n",
    "dictname=sp_range(\"canidsnew.csv\")\n",
    "  \n",
    "# 2nd function\n",
    "#gets a dict name as argument and outputfile name to write in\n",
    "def dict_min_max(dictname, outputfile):\n",
    "\n",
    "    \n",
    "    \n",
    "    # write in a file with the name as specified in the second argument of the function\n",
    "    output= open(outputfile, \"w\")\n",
    "    #keys are the species name and values are min and max\n",
    "    for keys, values in dictname.items():\n",
    "        #use min and max function to get the min and max for each species from all the sets of data\n",
    "        minage = min(values)\n",
    "        maxage = max(values)\n",
    "        #species name contains first [genus] [space] [species name], so if we split it with space, the first part\n",
    "        #would be the genus and the second part would be the species names \n",
    "        genus = keys.split(\" \")[0]\n",
    "        species = keys.split(\" \")[1]\n",
    "        #wrtie in the output file\n",
    "        output.write(genus + \",\"+ species+ \",\"+ minage+ \",\"+ maxage+\"\\n\")\n",
    "        \n",
    "    \n",
    "dict_min_max(dictname, \"canids_min_max.csv\")"
   ]
  },
  {
   "cell_type": "code",
   "execution_count": 163,
   "metadata": {
    "collapsed": false
   },
   "outputs": [
    {
     "name": "stdout",
     "output_type": "stream",
     "text": [
      "Specie with the longest fossil range is:  Cynarctoides acridens and its fossil range is:  [17.200000000000003]\n"
     ]
    }
   ],
   "source": [
    "# 3rd function\n",
    "\n",
    "species_ranges= sp_range(\"canidsnew.csv\")\n",
    "def longest_range():\n",
    "    from collections import defaultdict\n",
    "    sp_longest = defaultdict(list)\n",
    "    #keys are the species names and ages are min and max\n",
    "    for key, ages in species_ranges.items():\n",
    "        #like above function we find the min and max from all the values for each species\n",
    "        minage = min(ages)\n",
    "        maxage = max(ages)\n",
    "        #then find the range by maximum minus minimum which gives the longest possible fossil range\n",
    "        fossil_range= float(maxage)-float(minage)\n",
    "        #append it to the dict made above with species names as the key and longest fossil range calculated\n",
    "        #above as the value\n",
    "        sp_longest[key].append(fossil_range)\n",
    "    #to find the longest fossil from all the species we use the max function for the values in the dict made above                                         \n",
    "    longest= max(sp_longest.values())\n",
    "     #because there might be more thant one species with that range, we iterate over the dict to find all the \n",
    "        #species with that range number\n",
    "    for each in sp_longest.keys():\n",
    "        ranges= sp_longest[each]\n",
    "        #so for all the species that have their ranges equal to the longest range calculated above\n",
    "        if ranges == longest:\n",
    "            print(\"Specie with the longest fossil range is: \", each, \"and its fossil range is: \", longest)\n",
    "    \n",
    "longest_range()"
   ]
  },
  {
   "cell_type": "markdown",
   "metadata": {
    "collapsed": true
   },
   "source": [
    "# 8- Equidae family\n",
    "\n"
   ]
  },
  {
   "cell_type": "code",
   "execution_count": 2,
   "metadata": {
    "collapsed": false
   },
   "outputs": [
    {
     "name": "stdout",
     "output_type": "stream",
     "text": [
      "Specie with the longest fossil range is:  Hipparion aff. crassum and its fossil range is:  [23.0183]\n"
     ]
    }
   ],
   "source": [
    "#we do the same thing as above for the Equidae family\n",
    "#first function for Equidae family\n",
    "def sp_range(filename):\n",
    "    file = open(filename,'r')\n",
    "    my_line = file.readlines()               \n",
    "    from collections import defaultdict\n",
    "    species_ranges = defaultdict(list)             \n",
    "    for line in my_line:\n",
    " \n",
    "        line= line.replace('\"', '')\n",
    "        line= line.replace(\"'\", '')       \n",
    "        species_name= line.split(\",\")[5]       \n",
    "        sp_or_genus= line.split(\",\")[6] \n",
    "        #column for min and max in equidae family is different than canids\n",
    "        max_int = line.split(\",\")[14]\n",
    "        min_int = line.split(\",\")[15]                  \n",
    "        if sp_or_genus==\"species\":\n",
    "\n",
    "            species_ranges[species_name].append(max_int)\n",
    "            species_ranges[species_name].append(min_int)\n",
    "        sorted(species_ranges.keys())\n",
    "    \n",
    "    file.close()\n",
    "    return (species_ranges)\n",
    "sp_range(\"equidae_new.csv\")  \n",
    "\n",
    "\n",
    "#second function \n",
    "dictname=sp_range(\"equidae_new.csv\")\n",
    "  \n",
    "def dict_min_max(dictname, outputfile):\n",
    "\n",
    "    \n",
    "    \n",
    "    \n",
    "    output= open(outputfile, \"w\")\n",
    "    for keys, values in dictname.items():\n",
    "        minage = min(values)\n",
    "        maxage = max(values)\n",
    "        genus = keys.split(\" \")[0]\n",
    "        species = keys.split(\" \")[1]\n",
    "        output.write(genus + \",\"+ species+ \",\"+ minage+ \",\"+ maxage+ \"\\n\")\n",
    "        \n",
    "    \n",
    "dict_min_max(dictname, \"equidae_min_max.csv\")\n",
    "\n",
    "\n",
    "#3rd function\n",
    "\n",
    "species_ranges= sp_range(\"equidae_new.csv\")\n",
    "def longest_range():\n",
    "    from collections import defaultdict\n",
    "    sp_longest = defaultdict(list)\n",
    "    \n",
    "    for key, ages in species_ranges.items():\n",
    "        \n",
    "        minage = min(ages)\n",
    "        maxage = max(ages)\n",
    "        \n",
    "        fossil_range= float(maxage)-float(minage)\n",
    "        \n",
    "        sp_longest[key].append(fossil_range)\n",
    "                                              \n",
    "    longest= max(sp_longest.values())\n",
    "        \n",
    "    for each in sp_longest.keys():\n",
    "        ranges= sp_longest[each]\n",
    "        if ranges == longest:\n",
    "            print(\"Specie with the longest fossil range is: \", each, \"and its fossil range is: \", longest)\n",
    "    \n",
    "longest_range()\n",
    "dict_min_max(dictname, \"equidae_min_max.csv\")\n",
    "#sp_range(\"equidae_new.csv\")   "
   ]
  },
  {
   "cell_type": "markdown",
   "metadata": {
    "collapsed": true
   },
   "source": [
    "# EXTRA CREDIT\n"
   ]
  },
  {
   "cell_type": "code",
   "execution_count": 12,
   "metadata": {
    "collapsed": false
   },
   "outputs": [],
   "source": [
    "def species_ages(filename= \"canids_min_max1.csv\"):\n",
    "#canids_min_max1.csv contains 4 columns, genus name, species name, maximum and minimum age\n",
    "    from collections import defaultdict\n",
    "#defaultdict eliminates the repetition of the key\n",
    "    species_ranges= defaultdict(list) \n",
    "\n",
    "    file_object= open(filename, encoding = \"ISO-8859-15\")\n",
    "    \n",
    "    my_lines= file_object.readlines()\n",
    "\n",
    "    for line in my_lines: \n",
    "        #for each line in the file\n",
    "           #first column is the genus name \n",
    "        genus_name=line.split(\",\")[0] \n",
    "            #second and third column are the min and max ranges\n",
    "        max_int= line.split(\",\")[3] \n",
    "        min_int= line.split(\",\")[2] \n",
    "        #append both min and max to their genus name\n",
    "        species_ranges[genus_name].append(max_int)\n",
    "        species_ranges[genus_name].append(min_int)\n",
    "        #to sort the dictionary based on genus name\n",
    "    sorted(species_ranges.keys()) \n",
    "    \n",
    "        \n",
    "    return (species_ranges) \n",
    "\n",
    "#species_ages(\"canids_min_max1.csv\") \n",
    "#output is a dictionary with genus name and its min and max ages , BUT we need to find one min and max from all the sets of values in dictionary.\n",
    "\n"
   ]
  },
  {
   "cell_type": "code",
   "execution_count": 13,
   "metadata": {
    "collapsed": true
   },
   "outputs": [],
   "source": [
    "#species_ages_dict is the dictionary made above \n",
    "species_ages_dict= species_ages()\n",
    "#this function takes in the name of the dict made above and creates a file with genus name and its min and max\n",
    "def species_min_max(species_ages_dict, filename = \"canids-genus-ranges.csv\"):\n",
    "    #to wrtie in the file\n",
    "    output= open(filename, \"w\")\n",
    "    \n",
    "    #keys is the name of genus and values are the sets of datas for the min and max\n",
    "    for keys, values in species_ages_dict.items(): \n",
    "        #we need one min and one max, so use min and max function \n",
    "        min_age = min(values) \n",
    "        max_age = max(values)    \n",
    "        genus = keys \n",
    "        #we write in the file defined above, the comma is for the delimeter in the line and \\n to go to the next line in each loop or each genus name\n",
    "        output.write(genus+\",\"+min_age+\",\"+max_age+\"\\n\") \n",
    "    output.close()\n",
    "        \n",
    "    \n",
    "species_min_max(species_ages_dict, \"canids-genus-ranges.csv\")"
   ]
  },
  {
   "cell_type": "code",
   "execution_count": null,
   "metadata": {
    "collapsed": true
   },
   "outputs": [],
   "source": []
  }
 ],
 "metadata": {
  "anaconda-cloud": {},
  "kernelspec": {
   "display_name": "Python [conda root]",
   "language": "python",
   "name": "conda-root-py"
  },
  "language_info": {
   "codemirror_mode": {
    "name": "ipython",
    "version": 3
   },
   "file_extension": ".py",
   "mimetype": "text/x-python",
   "name": "python",
   "nbconvert_exporter": "python",
   "pygments_lexer": "ipython3",
   "version": "3.5.2"
  }
 },
 "nbformat": 4,
 "nbformat_minor": 2
}
